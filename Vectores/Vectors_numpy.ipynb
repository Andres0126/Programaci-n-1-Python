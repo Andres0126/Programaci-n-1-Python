{
 "cells": [
  {
   "cell_type": "code",
   "execution_count": 14,
   "metadata": {
    "colab": {
     "base_uri": "https://localhost:8080/"
    },
    "executionInfo": {
     "elapsed": 10,
     "status": "ok",
     "timestamp": 1748568925446,
     "user": {
      "displayName": "Richard Rios Patino",
      "userId": "15410436124749114871"
     },
     "user_tz": 300
    },
    "id": "agbWqTyuxzmC",
    "outputId": "e487d8db-fe97-4f85-a201-4c854f8b8a1c"
   },
   "outputs": [
    {
     "name": "stdout",
     "output_type": "stream",
     "text": [
      "0.0\n",
      "3.141592653589793\n",
      "6.123233995736766e-17\n"
     ]
    }
   ],
   "source": [
    "from math import sin,  pi\n",
    "print(sin(0))\n",
    "print(pi)\n",
    "\n",
    "from math import *\n",
    "print(cos(pi/2))\n",
    "\n",
    "\n"
   ]
  },
  {
   "cell_type": "markdown",
   "metadata": {
    "id": "qPYnLYPPzIOa"
   },
   "source": [
    "Todas las funciones y variables de **math** se insertan directamente en tu espacio de nombres global. Esto puede llevar a conflictos y ambigüedad, ya que diferentes librerias pueden tener funciones con nombres similares.\n",
    "\n",
    "Si importas todo (*) desde varias bibliotecas, los nombres pueden sobrescribirse entre sí. Por ejemplo, tanto **numpy** como **math** tienen su propia función sin, así que:\n",
    "\n",
    "si uso sin(), ¿es la de **NumPy** o la de **math**? Es difícil saberlo."
   ]
  },
  {
   "cell_type": "code",
   "execution_count": 1,
   "metadata": {
    "colab": {
     "base_uri": "https://localhost:8080/"
    },
    "executionInfo": {
     "elapsed": 101,
     "status": "ok",
     "timestamp": 1748568930090,
     "user": {
      "displayName": "Richard Rios Patino",
      "userId": "15410436124749114871"
     },
     "user_tz": 300
    },
    "id": "rJxx8WXHzGOR",
    "outputId": "ba5ef59e-ec17-4ffc-ec31-dab229f28ceb"
   },
   "outputs": [
    {
     "name": "stdout",
     "output_type": "stream",
     "text": [
      "0.0\n"
     ]
    }
   ],
   "source": [
    "from numpy import *\n",
    "from math import *\n",
    "\n",
    "print(sin(0)) #Is this NumPy’s or math’s sin()? Hard to tell."
   ]
  },
  {
   "cell_type": "markdown",
   "metadata": {
    "id": "_7eLe6XZzsrR"
   },
   "source": [
    "What is the solution?"
   ]
  },
  {
   "cell_type": "code",
   "execution_count": 2,
   "metadata": {
    "colab": {
     "base_uri": "https://localhost:8080/"
    },
    "executionInfo": {
     "elapsed": 8,
     "status": "ok",
     "timestamp": 1748568976035,
     "user": {
      "displayName": "Richard Rios Patino",
      "userId": "15410436124749114871"
     },
     "user_tz": 300
    },
    "id": "4UBIFIk4zzar",
    "outputId": "117b86b6-9a08-4ac7-8786-fb9fb9064875"
   },
   "outputs": [
    {
     "name": "stdout",
     "output_type": "stream",
     "text": [
      "6.123233995736766e-17\n",
      "1.0\n"
     ]
    }
   ],
   "source": [
    "import numpy as np #This makes it clear where each function comes from:\n",
    "import math as math\n",
    "print(math.cos(math.pi/2))\n",
    "print(np.sin(math.pi/2))"
   ]
  },
  {
   "cell_type": "markdown",
   "metadata": {
    "id": "aGsy6SFQz135"
   },
   "source": [
    "_____________________________________________________________________________________________"
   ]
  },
  {
   "cell_type": "code",
   "execution_count": 3,
   "metadata": {
    "colab": {
     "base_uri": "https://localhost:8080/"
    },
    "executionInfo": {
     "elapsed": 12,
     "status": "ok",
     "timestamp": 1749652137537,
     "user": {
      "displayName": "Richard Rios Patino",
      "userId": "15410436124749114871"
     },
     "user_tz": 300
    },
    "id": "MteFEcFQE3RZ",
    "outputId": "5328cee4-1894-4c09-def8-41396e5a27b3"
   },
   "outputs": [
    {
     "name": "stdout",
     "output_type": "stream",
     "text": [
      "[1, -2, 2.3, 4]\n",
      "<class 'list'>\n",
      "[-1, 2, 3, 4.5]\n",
      "[1, -2, 2.3, 4, -1, 2, 3, 4.5]\n",
      "[1, 3, 'x', 1, -2, 2.3, 4]\n",
      "-2\n"
     ]
    }
   ],
   "source": [
    "x = [ 1, -2, 2.3, 4]\n",
    "print(x)\n",
    "print(type(x))\n",
    "\n",
    "y = [-1, 2, 3, 4.5]\n",
    "print(y)\n",
    "\n",
    "print(x+y)\n",
    "\n",
    "z = [1, 3, 'x']\n",
    "\n",
    "print(z+x)\n",
    "print(x[1])"
   ]
  },
  {
   "cell_type": "code",
   "execution_count": 4,
   "metadata": {
    "colab": {
     "base_uri": "https://localhost:8080/"
    },
    "id": "L2jD7ejqGtPs",
    "outputId": "973afaab-c877-4118-8923-b6030e3ef990"
   },
   "outputs": [
    {
     "name": "stdout",
     "output_type": "stream",
     "text": [
      "[ 1.  -2.   2.3  4. ]\n",
      "<class 'numpy.ndarray'>\n",
      "4.0\n",
      "[-1.   2.   3.   4.5]\n",
      "[0.  0.  5.3 8.5]\n",
      "[-1.  -4.   6.9 18. ]\n",
      "[ 1.  -2.   2.3  4. ]\n",
      "[ 1 -2]\n"
     ]
    }
   ],
   "source": [
    "import numpy as np #This makes it clear where each function comes from:\n",
    "x = np.array([ 1, -2, 2.3, 4])\n",
    "print(x)\n",
    "print(type(x))\n",
    "print(x[-1])\n",
    "\n",
    "\n",
    "y = np.array(y)\n",
    "print(y)\n",
    "\n",
    "print(x+y)\n",
    "print(x*y)\n",
    "\n",
    "a = np.array([1, -2])\n",
    "print(x)\n",
    "print(a)\n",
    "#print (x*a) # it produced a error as it multiples element by element"
   ]
  },
  {
   "cell_type": "markdown",
   "metadata": {
    "id": "NfJZgtmd1fka"
   },
   "source": [
    "# Atributos vs metodos\n",
    "\n",
    "Los atributos son características o propiedades de un objeto. Representan datos o valores asociados a ese objeto. No se escriben con paréntesis cuando se accede a ellos.\n",
    "\n",
    "Metodos son funciones asociadas a un objeto.\n",
    "\n",
    "Describen acciones que el objeto puede realizar.\n",
    "\n",
    "Se invocan con paréntesis.\n",
    "\n"
   ]
  },
  {
   "cell_type": "code",
   "execution_count": 5,
   "metadata": {
    "colab": {
     "base_uri": "https://localhost:8080/"
    },
    "executionInfo": {
     "elapsed": 17,
     "status": "ok",
     "timestamp": 1748569068996,
     "user": {
      "displayName": "Richard Rios Patino",
      "userId": "15410436124749114871"
     },
     "user_tz": 300
    },
    "id": "E_LOb47lHz1L",
    "outputId": "a59eb17b-ad7a-412e-ee32-c821599b7ecb"
   },
   "outputs": [
    {
     "name": "stdout",
     "output_type": "stream",
     "text": [
      "[ 1.  -2.   2.3  4. ]\n",
      "(4,)\n",
      "4\n",
      "5.3\n"
     ]
    }
   ],
   "source": [
    "\n",
    "x = np.array([ 1, -2, 2.3, 4])\n",
    "print(x)\n",
    "print(x.shape) # devuelve las dimensiones del arreglo (# filas y/o columnas)\n",
    "\n",
    "\n",
    "print(x.size) # numero total de elementos\n",
    "\n",
    "print(x.sum())"
   ]
  },
  {
   "cell_type": "code",
   "execution_count": 6,
   "metadata": {
    "id": "saUEn5_I1lty"
   },
   "outputs": [
    {
     "name": "stdout",
     "output_type": "stream",
     "text": [
      "[[ 1.  -2. ]\n",
      " [ 2.3  4. ]]\n",
      "(2, 2)\n",
      "<class 'numpy.ndarray'>\n",
      "-2.0\n",
      "[[2.3 4. ]]\n",
      "[[ 1. -2.]]\n",
      "[-2.  4.]\n"
     ]
    }
   ],
   "source": [
    "z = x.reshape((2,2)) #Cambia la forma del arreglo a 2 filas y 2 columnas\n",
    "print(z)\n",
    "print(z.shape)\n",
    "print(type(z))\n",
    "print(z[0,1])\n",
    "print(z[1:]) #it prints all rows from index 1 forward\n",
    "\n",
    "\n",
    "print(z[:1]) #it prints all row before index 1\n",
    "print(z[:,1]) # it print the column of index 1"
   ]
  },
  {
   "cell_type": "code",
   "execution_count": null,
   "metadata": {
    "colab": {
     "base_uri": "https://localhost:8080/"
    },
    "id": "BRxATS2mIf5M",
    "outputId": "18d6052b-222b-4eb5-c603-4b2199e327d3"
   },
   "outputs": [
    {
     "name": "stdout",
     "output_type": "stream",
     "text": [
      "[ 1.  -2.   2.3  4. ]\n",
      "[[ 1. ]\n",
      " [-2. ]\n",
      " [ 2.3]\n",
      " [ 4. ]]\n",
      "(4, 1)\n",
      "<class 'numpy.ndarray'>\n",
      "-2.0\n",
      "[[ 1. ]\n",
      " [-2. ]\n",
      " [ 2.3]\n",
      " [ 4. ]]\n",
      "(4, 1)\n",
      "[[ 1. ]\n",
      " [-2. ]\n",
      " [ 2.3]]\n",
      "[ 1.  -2.   2.3  4. ]\n",
      "(4,)\n"
     ]
    }
   ],
   "source": [
    "\n",
    "x = np.array([ 1, -2, 2.3, 4])\n",
    "print(x)\n",
    "\n",
    "z = x.reshape((4,1))\n",
    "print(z)\n",
    "print(z.shape)\n",
    "print(type(z))\n",
    "print(z[1,0])\n",
    "\n",
    "#it prints all rows and columns starting from row index 0\n",
    "print(z[0:])\n",
    "print(z[0:].shape)\n",
    "print(z[:3])\n",
    "\n",
    "#it prints all rows, but only column 0\n",
    "#it gest values as 1-D array\n",
    "print(z[:,0])\n",
    "print(z[:,0].shape)"
   ]
  },
  {
   "cell_type": "code",
   "execution_count": null,
   "metadata": {
    "colab": {
     "base_uri": "https://localhost:8080/"
    },
    "id": "Jhw0VGDHacLH",
    "outputId": "afe8f61b-b576-4ac8-cb8e-b54c6b605d93"
   },
   "outputs": [
    {
     "name": "stdout",
     "output_type": "stream",
     "text": [
      "x as 1-D array [ 1  0 -1]\n",
      "(3,)\n",
      "<class 'numpy.ndarray'>\n",
      "[ 2  2 -2]\n",
      "[1 0 1]\n",
      "x as matrix [[ 1  0 -1]]\n",
      "(1, 3)\n",
      "<class 'numpy.matrix'>\n",
      "[[ 2  2 -2]]\n",
      "[[2]]\n",
      "[[ 1  2 -1]\n",
      " [ 0  0  0]\n",
      " [-1 -2  1]]\n"
     ]
    }
   ],
   "source": [
    "x = np.array([1, 0, -1])\n",
    "y = np.array ([1, 2, -1])\n",
    "print(\"x as 1-D array\",x)\n",
    "print(x.shape)\n",
    "print(type(x))\n",
    "\n",
    "print(x+y)\n",
    "print(x*y)\n",
    "\n",
    "\n",
    "x = np.matrix([1, 0, -1])\n",
    "y = np.matrix ([1, 2, -1])\n",
    "print(\"x as matrix\",x)\n",
    "print(x.shape)\n",
    "print(type(x))\n",
    "\n",
    "print(x+y)\n",
    "print(x*y.transpose())\n",
    "print(x.transpose()*y)"
   ]
  },
  {
   "cell_type": "code",
   "execution_count": null,
   "metadata": {
    "colab": {
     "base_uri": "https://localhost:8080/"
    },
    "id": "SNluMSK3dwOM",
    "outputId": "bcc72478-7172-4e7a-fa17-677f756c9bb5"
   },
   "outputs": [
    {
     "name": "stdout",
     "output_type": "stream",
     "text": [
      "x as 2x3 matrix using array:\n",
      " [[ 1  0 -1]\n",
      " [-2 -1  0]]\n",
      "x shape: (2, 3)\n",
      "x type: <class 'numpy.ndarray'>\n",
      "x + y:\n",
      " [[ 2  2 -2]\n",
      " [-1  1 -1]]\n",
      "x * y:\n",
      " [[ 1  0  1]\n",
      " [-2 -2  0]]\n",
      "x as matrix [[ 1  0 -1]\n",
      " [-2 -1  0]]\n",
      "(2, 3)\n",
      "<class 'numpy.matrix'>\n",
      "[[ 2  2 -2]\n",
      " [-1  1 -1]]\n",
      "[[ 2]\n",
      " [-4]]\n",
      "[[ 2 -4]]\n"
     ]
    }
   ],
   "source": [
    "\n",
    "import numpy as np\n",
    "\n",
    "x = np.array([[1, 0, -1], [-2, -1, 0]])  # 2 rows, 3 columns\n",
    "y = np.array([1, 2, -1])                # 1D array with shape (3,)\n",
    "\n",
    "print(\"x as 2x3 matrix using array:\\n\", x)\n",
    "print(\"x shape:\", x.shape)\n",
    "print(\"x type:\", type(x))\n",
    "\n",
    "print(\"x + y:\\n\", x + y)  # Broadcasting y over rows of x\n",
    "print(\"x * y:\\n\", x * y)  # Element-# wise multiplication with broadcastin\n",
    "\n",
    "\n",
    "x = np.matrix(x)\n",
    "y = np.matrix ([1, 2, -1])\n",
    "print(\"x as matrix\",x)\n",
    "print(x.shape)\n",
    "print(type(x))\n",
    "\n",
    "print(x+y)\n",
    "print(x*y.transpose())\n",
    "print(y*x.transpose())"
   ]
  },
  {
   "cell_type": "code",
   "execution_count": null,
   "metadata": {
    "colab": {
     "base_uri": "https://localhost:8080/"
    },
    "id": "i-9ezH16itOB",
    "outputId": "31dad536-b2b0-45cd-8a3d-c623dbb98f26"
   },
   "outputs": [
    {
     "name": "stdout",
     "output_type": "stream",
     "text": [
      "x as array [[ 1  0 -1]\n",
      " [-2 -1  0]]\n",
      "(2, 3)\n",
      "<class 'numpy.ndarray'>\n",
      "-1\n",
      "[ 1  0 -1]\n",
      "[-1  0]\n",
      "x as matrix [[ 1  0 -1]\n",
      " [-2 -1  0]]\n",
      "(2, 3)\n",
      "<class 'numpy.matrix'>\n",
      "-1\n",
      "[[ 1  0 -1]]\n",
      "[[-1]\n",
      " [ 0]]\n"
     ]
    }
   ],
   "source": [
    "\n",
    "import numpy as np\n",
    "\n",
    "x = np.array([[1, 0, -1], [-2, -1, 0]])  # 2 rows, 3 columns\n",
    "print(\"x as array\",x)\n",
    "print(x.shape)\n",
    "print(type(x))\n",
    "print(x[0,2])\n",
    "print(x[0,:])\n",
    "print(x[:,2])\n",
    "\n",
    "x = np.matrix(x)\n",
    "y = np.matrix ([1, 2, -1])\n",
    "print(\"x as matrix\",x)\n",
    "print(x.shape)\n",
    "print(type(x))\n",
    "print(x[0,2])\n",
    "print(x[0,:])\n",
    "print(x[:,2])"
   ]
  }
 ],
 "metadata": {
  "colab": {
   "provenance": []
  },
  "kernelspec": {
   "display_name": "Python 3",
   "language": "python",
   "name": "python3"
  },
  "language_info": {
   "codemirror_mode": {
    "name": "ipython",
    "version": 3
   },
   "file_extension": ".py",
   "mimetype": "text/x-python",
   "name": "python",
   "nbconvert_exporter": "python",
   "pygments_lexer": "ipython3",
   "version": "3.13.3"
  }
 },
 "nbformat": 4,
 "nbformat_minor": 0
}
