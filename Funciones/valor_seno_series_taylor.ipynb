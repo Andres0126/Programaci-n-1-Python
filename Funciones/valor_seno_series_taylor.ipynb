{
 "cells": [
  {
   "cell_type": "code",
   "execution_count": 1,
   "metadata": {
    "colab": {
     "base_uri": "https://localhost:8080/",
     "height": 228
    },
    "executionInfo": {
     "elapsed": 115,
     "status": "error",
     "timestamp": 1751487975175,
     "user": {
      "displayName": "Richard Rios Patino",
      "userId": "15410436124749114871"
     },
     "user_tz": 300
    },
    "id": "-ZPvACXmxN8g",
    "outputId": "7c1fc852-8d73-4520-a7bc-90f3ff028fec"
   },
   "outputs": [
    {
     "name": "stdout",
     "output_type": "stream",
     "text": [
      "1\n",
      "1\n",
      "120\n"
     ]
    }
   ],
   "source": [
    "x = 5\n",
    "def f_factorial(n):\n",
    "  producto = 1\n",
    "  if n == 0:\n",
    "    producto =  1\n",
    "  else:\n",
    "    for i in range(1,n+1):\n",
    "      producto = producto*i\n",
    "\n",
    "  return producto\n",
    "\n",
    "n =1\n",
    "print(f_factorial(n))\n",
    "entero = 0\n",
    "print(f_factorial(entero))\n",
    "print(f_factorial(x))\n",
    "#print(producto) # Error : producto es una variable local de \"f_factorial\", no visible por fuera de ella"
   ]
  },
  {
   "cell_type": "markdown",
   "metadata": {
    "id": "L6FHZI9JVxc_"
   },
   "source": [
    "El siguiente código es un **ejemplo de programación estructurada con elementos de programación modular**:\n",
    "\n",
    "Programación modular:\n",
    "* Tiene funciones reutilizables\n",
    "* Las funciones separan la lógica en bloques con nombres significativos\n",
    "\n",
    "Programación estructurada:\n",
    "* El flujo del programa es secuencial, con decisiones (condicionales) y repeticiones (ciclos)\n",
    "* Es legible, ordenado y sin instrucciones de salto\n",
    "* El flujo del programa está claramente definido y controlado (de arriba hacia abajo, inicio y fin)\n",
    "\n",
    "El código está en la transición natural entre estructurado y modular, lo cual es ideal para construir programas más mantenibles."
   ]
  },
  {
   "cell_type": "code",
   "execution_count": null,
   "metadata": {
    "colab": {
     "base_uri": "https://localhost:8080/"
    },
    "executionInfo": {
     "elapsed": 9,
     "status": "ok",
     "timestamp": 1751543006206,
     "user": {
      "displayName": "Richard Rios Patino",
      "userId": "15410436124749114871"
     },
     "user_tz": 300
    },
    "id": "NSX04-LHyl2X",
    "outputId": "dda44c7f-3ac1-467d-f87b-8c5652d2b61a"
   },
   "outputs": [
    {
     "name": "stdout",
     "output_type": "stream",
     "text": [
      "1\n",
      "seno de 180 es = 3.328056695189652e-16\n",
      "seno de 60 es = 0.8660254034934827\n"
     ]
    }
   ],
   "source": [
    "from math import *\n",
    "\n",
    "n =1\n",
    "# ¿ Qué pasa si descomento la linea 5?\n",
    "#print(f_factorial(n))\n",
    "def f_factorial(n):\n",
    "  producto = 1\n",
    "  for i in range(1,n+1):\n",
    "    producto = producto*i\n",
    "  return producto\n",
    "\n",
    "def f_sen(angulo):\n",
    "  Sold = 0\n",
    "  Snew = 0\n",
    "  E_max = 0.0000005\n",
    "  E = E_max +1\n",
    "  angulo = angulo*pi/180\n",
    "  n = 1\n",
    "  while (E>= E_max):\n",
    "    Snew = Sold + (((-1)**(n+1))*(angulo**(2*n-1)))/f_factorial(2*n-1)\n",
    "    E = abs(Snew - Sold)/abs(Snew)\n",
    "    Sold = Snew\n",
    "    n = n+1\n",
    "  return (Snew)\n",
    "\n",
    "print(f_factorial(n))\n",
    "theta = 180\n",
    "print(f'seno de {theta} es = {f_sen(theta)}')\n",
    "theta = 60\n",
    "print(f'seno de {theta} es = {f_sen(theta)}')\n",
    "\n"
   ]
  },
  {
   "cell_type": "markdown",
   "metadata": {
    "id": "Gm5j2HxqSy5R"
   },
   "source": [
    "#¿Cómo logramos una programación modular de forma más formal y completa?\n",
    "\n",
    "Encapsulamos la lógica principal en una función (main()), lo cual:\n",
    "\n",
    "* Mejora la organización del código.\n",
    "\n",
    "* Permite reutilizar funciones en otros contextos (como si importaras el archivo desde otro script).\n",
    "\n",
    "* Separa la definición del comportamiento de su ejecución.\n",
    "\n",
    "Agregaste la estructura estándar en Python para definir el punto de entrada del programa:\n",
    "\n",
    "``if __name__ == \"__main__\":\n",
    "    main()``\n",
    "\n",
    "Esto significa:\n",
    "\"Ejecuta main() solo si este archivo es el que se ejecuta directamente, y no si lo importan como módulo.\"\n",
    "\n",
    "De esta forma, Python como lenguaje interpretado:\n",
    "\n",
    "* Ejecuta el archivo de arriba hacia abajo, una línea a la vez.\n",
    "\n",
    "* Define (pero no ejecuta) todas las funciones encontradas:\n",
    "\n",
    "* Al leer def f_factorial(n), f_sen() y main(), Python guarda las funciones en memoria.\n",
    "\n",
    "En este paso, no se ejecuta nada dentro de las funciones aún.Luego, llega a **main()**, y pregunta:\n",
    "\n",
    "* ¿Estoy ejecutando este archivo directamente?\n",
    "* Si sí, entonces ejecuta main()\n",
    "* entra a la función main() y ejecuta línea por línea su contenido\n",
    "\n",
    "**Importante: las funciones deben estar declaradas antes de usarse, pero no se ejecutan hasta que son llamadas**"
   ]
  },
  {
   "cell_type": "code",
   "execution_count": null,
   "metadata": {
    "colab": {
     "base_uri": "https://localhost:8080/"
    },
    "executionInfo": {
     "elapsed": 38,
     "status": "ok",
     "timestamp": 1751548497361,
     "user": {
      "displayName": "Richard Rios Patino",
      "userId": "15410436124749114871"
     },
     "user_tz": 300
    },
    "id": "wk5P1yUHSmsx",
    "outputId": "5e3b04ce-cb8b-40ca-8e3b-02d5da530924"
   },
   "outputs": [
    {
     "name": "stdout",
     "output_type": "stream",
     "text": [
      "1\n",
      "seno de 180 es = 3.328056695189652e-16\n",
      "seno de 60 es = 0.8660254034934827\n"
     ]
    }
   ],
   "source": [
    "from math import *\n",
    "\n",
    "def f_factorial(n):\n",
    "  producto = 1\n",
    "  for i in range(1,n+1):\n",
    "    producto = producto*i\n",
    "  return producto\n",
    "\n",
    "def f_sen(angulo):\n",
    "  Sold = 0\n",
    "  Snew = 0\n",
    "  E_max = 0.0000005\n",
    "  E = E_max +1\n",
    "  angulo = angulo*pi/180\n",
    "  n = 1\n",
    "  while (E>= E_max):\n",
    "    Snew = Sold + (((-1)**(n+1))*(angulo**(2*n-1)))/f_factorial(2*n-1)\n",
    "    E = abs(Snew - Sold)/abs(Snew)\n",
    "    Sold = Snew\n",
    "    n = n+1\n",
    "  return (Snew)\n",
    "\n",
    "def main():\n",
    "    n = 1\n",
    "    print(f_factorial(n))\n",
    "\n",
    "    theta = 180\n",
    "    print(f'seno de {theta} es = {f_sen(theta)}')\n",
    "    theta = 60\n",
    "    print(f'seno de {theta} es = {f_sen(theta)}')\n",
    "\n",
    "if __name__ == \"__main__\":\n",
    "    main()"
   ]
  },
  {
   "cell_type": "markdown",
   "metadata": {
    "id": "1yulTx84b-yu"
   },
   "source": [
    "# Ejemplo de modular completo en python\n",
    "\n",
    "* Dividir el código en múltiples archivos (módulos) y los importas.\n",
    "\n",
    "* Encapsular funcionalidad específica en funciones o clases bien organizadas.\n",
    "\n",
    "* Definir un archivo main.py que orquesta el uso de varios módulos definidos por ti (e.j. my_math_library.py, matematicas.py, etc.)."
   ]
  },
  {
   "cell_type": "code",
   "execution_count": null,
   "metadata": {
    "colab": {
     "base_uri": "https://localhost:8080/",
     "height": 73
    },
    "executionInfo": {
     "elapsed": 4827,
     "status": "ok",
     "timestamp": 1751549108155,
     "user": {
      "displayName": "Richard Rios Patino",
      "userId": "15410436124749114871"
     },
     "user_tz": 300
    },
    "id": "nfZxhQEycYi-",
    "outputId": "e2a1750a-e0e7-46cf-e8d0-6ae0d3fb57f7"
   },
   "outputs": [
    {
     "ename": "AttributeError",
     "evalue": "'function' object has no attribute 'uploaded'",
     "output_type": "error",
     "traceback": [
      "\u001b[31m---------------------------------------------------------------------------\u001b[39m",
      "\u001b[31mAttributeError\u001b[39m                            Traceback (most recent call last)",
      "\u001b[36mCell\u001b[39m\u001b[36m \u001b[39m\u001b[32mIn[8]\u001b[39m\u001b[32m, line 2\u001b[39m\n\u001b[32m      1\u001b[39m \u001b[38;5;28;01mfrom\u001b[39;00m\u001b[38;5;250m \u001b[39m\u001b[34;01mmy_math_library\u001b[39;00m\u001b[38;5;250m \u001b[39m\u001b[38;5;28;01mimport\u001b[39;00m f_factorial, f_sen\n\u001b[32m----> \u001b[39m\u001b[32m2\u001b[39m uploaded = \u001b[43mf_factorial\u001b[49m\u001b[43m.\u001b[49m\u001b[43muploaded\u001b[49m()\n\u001b[32m      3\u001b[39m uploaded = f_sen.uploaded()\n",
      "\u001b[31mAttributeError\u001b[39m: 'function' object has no attribute 'uploaded'"
     ]
    }
   ],
   "source": [
    "from my_math_library import f_factorial, f_sen\n",
    "uploaded = f_factorial.upload()\n",
    "uploaded = f_sen.upload()"
   ]
  },
  {
   "cell_type": "code",
   "execution_count": 9,
   "metadata": {
    "colab": {
     "base_uri": "https://localhost:8080/"
    },
    "executionInfo": {
     "elapsed": 48,
     "status": "ok",
     "timestamp": 1751549211827,
     "user": {
      "displayName": "Richard Rios Patino",
      "userId": "15410436124749114871"
     },
     "user_tz": 300
    },
    "id": "mSCseO-pd8C9",
    "outputId": "938b88cc-271a-4211-bf91-24fc6c5437dc"
   },
   "outputs": [
    {
     "name": "stdout",
     "output_type": "stream",
     "text": [
      "1\n",
      "seno de 180 es = 3.328056695189652e-16\n",
      "seno de 60 es = 0.8660254034934827\n"
     ]
    }
   ],
   "source": [
    "from my_math_library import  f_factorial, f_sen\n",
    "\n",
    "def main():\n",
    "    n = 1\n",
    "    print(f_factorial(n))\n",
    "\n",
    "    theta = 180\n",
    "    print(f'seno de {theta} es = {f_sen(theta)}')\n",
    "    theta = 60\n",
    "    print(f'seno de {theta} es = {f_sen(theta)}')\n",
    "\n",
    "if __name__ == \"__main__\":\n",
    "    main()"
   ]
  }
 ],
 "metadata": {
  "colab": {
   "authorship_tag": "ABX9TyMV1xeZBKFYLLzIA8mEXUaP",
   "provenance": []
  },
  "kernelspec": {
   "display_name": "Python 3",
   "language": "python",
   "name": "python3"
  },
  "language_info": {
   "codemirror_mode": {
    "name": "ipython",
    "version": 3
   },
   "file_extension": ".py",
   "mimetype": "text/x-python",
   "name": "python",
   "nbconvert_exporter": "python",
   "pygments_lexer": "ipython3",
   "version": "3.13.3"
  }
 },
 "nbformat": 4,
 "nbformat_minor": 0
}
