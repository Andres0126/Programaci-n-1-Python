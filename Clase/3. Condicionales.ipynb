{
 "cells": [
  {
   "cell_type": "markdown",
   "metadata": {
    "id": "s7PuRXM6VCa2"
   },
   "source": [
    "# CONDICIONAL IF"
   ]
  },
  {
   "cell_type": "markdown",
   "metadata": {
    "id": "XY_Rpp4EVGwt"
   },
   "source": [
    "¿Cómo hacer que cierta parte del programa se ejecute o deje de hacerlo en función de una condición determinada?\n",
    "\n",
    "Para escribir programas, es muy comun necesitar de comprobar *condiciones* y cambiar el comportamiento del programa de acuerdo a estas. Las **sentencias condicionales** nos dan esta capacidad. Para esto vamos a utilizar la sentencia `if`\n",
    "\n",
    "\n",
    "```\n",
    "if (x >= 0):\n",
    "  print(x, \" es mayor que cero\") # proceso B\n",
    "else:\n",
    "  print(x, \" es menor que cero\")\n",
    "```\n",
    "Al llegar a este punto, ejecuta el proceso B, sólo si esta condición es cierta. De lo contrario, continua."
   ]
  },
  {
   "cell_type": "markdown",
   "metadata": {
    "id": "s2axfOArWO49"
   },
   "source": [
    "Realice un algoritmo que realice la división de dos números `a`(divisor) y `b`(dividiendo), donde `a`es el divisor) y `b`es el dividiendo. En caso de que `a`sea igual a 0, generar un mensaje de *operación no posible en los reales*.\n",
    "\n",
    "Los números deben ser ingresados por el usuario por el teclado."
   ]
  },
  {
   "cell_type": "code",
   "execution_count": 1,
   "metadata": {
    "colab": {
     "base_uri": "https://localhost:8080/"
    },
    "executionInfo": {
     "elapsed": 10077,
     "status": "ok",
     "timestamp": 1746628197485,
     "user": {
      "displayName": "Richard Rios Patino",
      "userId": "15410436124749114871"
     },
     "user_tz": 300
    },
    "id": "Hv1YvxdiTYy7",
    "outputId": "a1ae4ec0-c62c-4ba6-d700-87909a3297e5"
   },
   "outputs": [
    {
     "ename": "ValueError",
     "evalue": "could not convert string to float: ''",
     "output_type": "error",
     "traceback": [
      "\u001b[1;31m---------------------------------------------------------------------------\u001b[0m",
      "\u001b[1;31mValueError\u001b[0m                                Traceback (most recent call last)",
      "Cell \u001b[1;32mIn[1], line 1\u001b[0m\n\u001b[1;32m----> 1\u001b[0m a \u001b[38;5;241m=\u001b[39m \u001b[38;5;28mfloat\u001b[39m(\u001b[38;5;28minput\u001b[39m(\u001b[38;5;124m\"\u001b[39m\u001b[38;5;124mIngrese el divisor: \u001b[39m\u001b[38;5;124m\"\u001b[39m))\n\u001b[0;32m      2\u001b[0m b \u001b[38;5;241m=\u001b[39m \u001b[38;5;28mfloat\u001b[39m(\u001b[38;5;28minput\u001b[39m(\u001b[38;5;124m\"\u001b[39m\u001b[38;5;124mIngrese el dividiendo: \u001b[39m\u001b[38;5;124m\"\u001b[39m))\n\u001b[0;32m      3\u001b[0m resultado \u001b[38;5;241m=\u001b[39m \u001b[38;5;241m0\u001b[39m\n",
      "\u001b[1;31mValueError\u001b[0m: could not convert string to float: ''"
     ]
    }
   ],
   "source": [
    "a = float(input(\"Ingrese el divisor: \"))\n",
    "b = float(input(\"Ingrese el dividiendo: \"))\n",
    "resultado = 0"
   ]
  },
  {
   "cell_type": "code",
   "execution_count": null,
   "metadata": {
    "colab": {
     "base_uri": "https://localhost:8080/"
    },
    "executionInfo": {
     "elapsed": 195,
     "status": "ok",
     "timestamp": 1715292861263,
     "user": {
      "displayName": "Richard Rios Patino",
      "userId": "15410436124749114871"
     },
     "user_tz": 300
    },
    "id": "6tP3bIWWVF4t",
    "outputId": "8f6d8933-14c7-467b-ae57-c95d45995335"
   },
   "outputs": [
    {
     "name": "stdout",
     "output_type": "stream",
     "text": [
      "Resultado de la división 0.2857142857142857\n"
     ]
    }
   ],
   "source": [
    "if (a!=0):\n",
    "  resultado = b/a\n",
    "  print(\"Resultado de la división\", resultado)\n",
    "else:\n",
    "  print(\"La operación no es posible en R\")\n",
    "if (a==0):\n",
    "  print(\"La operación no es posible en R\")\n",
    "else:\n",
    "  resultado = b/a\n",
    "  print(\"Resultado de la división: \", resultado)"
   ]
  },
  {
   "cell_type": "markdown",
   "metadata": {
    "id": "cHwyl0gRo0IE"
   },
   "source": [
    "#Operadores de pertencencia"
   ]
  },
  {
   "cell_type": "code",
   "execution_count": null,
   "metadata": {
    "id": "3cKnSh96sC-9"
   },
   "outputs": [],
   "source": [
    "x = 1\n",
    "y = 0\n",
    "lista = [10, 0, -5, 30]\n",
    "\n",
    "if x not in lista:\n",
    "  print(\"x NO esta presente en la lista\")\n",
    "else:\n",
    "  print(\"x esta presente en la lista\")\n",
    "\n",
    "if y in lista:\n",
    "  print(f\"{y} esta presente en la lista: {lista}\")\n",
    "else:\n",
    "  print(\"y NO esta presente en la lista\")"
   ]
  },
  {
   "cell_type": "markdown",
   "metadata": {
    "id": "p2HXLL_JsGtm"
   },
   "source": [
    "# Operadores ternarios\n",
    "\n",
    "Tambien son conocidos como expresiones condicionales, y son operadores que evaluan algo basados sobre una condicion que puede ser `True` o `False`\n",
    "\n",
    "Lo interesante es que se ejecutan en **una linea**\n",
    "\n",
    "```\n",
    "[si_True] if [expresion] else [si_False]\n",
    "```"
   ]
  },
  {
   "cell_type": "code",
   "execution_count": null,
   "metadata": {
    "id": "xh5EufS1sW29"
   },
   "outputs": [],
   "source": [
    "x, y = -1, 1\n",
    "\n",
    "min = x if x<y else y   # guardamos el valor minimo\n",
    "print(min)"
   ]
  },
  {
   "cell_type": "code",
   "execution_count": null,
   "metadata": {
    "id": "SlG_JULasYPV"
   },
   "outputs": [],
   "source": [
    "# Equivalentemente\n",
    "\n",
    "if x<y:\n",
    "  min = x\n",
    "else:\n",
    "  min = y\n",
    "\n",
    "print(min) # recordar la tabulación"
   ]
  },
  {
   "cell_type": "markdown",
   "metadata": {
    "id": "VQP1J0e9bByd"
   },
   "source": [
    "# Ejercicio 1\n",
    "Diseño un algoritmo para calcular el pago neto de un trabajador a partir del número de horas trabajadas y la tarifa horaria, y que realice las deducciones de salud y pensión."
   ]
  },
  {
   "cell_type": "code",
   "execution_count": null,
   "metadata": {
    "id": "ZLj8Aj36giW2"
   },
   "outputs": [],
   "source": [
    "# escribir codigo"
   ]
  },
  {
   "cell_type": "markdown",
   "metadata": {
    "id": "fEMoqt43gi79"
   },
   "source": [
    "Igualmente, si el salario bruto del empleado es mayor que 10 millones de pesos al mes, se desea que el algoritmo deduzca el impuesto a la renta al salario bruto de la siguiente forma:\n",
    "\n",
    "Impuesto a la renta = 2%*( salario bruto - 10 millones de peso )\n"
   ]
  },
  {
   "cell_type": "code",
   "execution_count": null,
   "metadata": {
    "id": "zyvumMJtia01"
   },
   "outputs": [],
   "source": [
    "# escribir codigo"
   ]
  },
  {
   "cell_type": "markdown",
   "metadata": {
    "id": "k_liRfX2ibd9"
   },
   "source": [
    "Igualmente, se desea que el algoritmo deduzca el impuesto a la renta de forma incremental y diferenciada, de acuerdo a la siguiente forma:\n",
    "\n",
    "Si el salario bruto es mayor que 10 millones, el impuesto a la renta = 2%*(salario bruto - 10 millones de peso )\n",
    "\n",
    "Si el salario bruto es mayor que 20 millones, el impuesto a la renta = 3%*(salario bruto - 10 millones de peso )\n",
    "\n",
    "Si el salario bruto es mayor que 50 millones, el impuesto a la renta = 4%*(salario bruto - 10 millones de peso )\n"
   ]
  },
  {
   "cell_type": "code",
   "execution_count": null,
   "metadata": {
    "id": "su6PnHOcifEe"
   },
   "outputs": [],
   "source": [
    "# escribir codigo"
   ]
  },
  {
   "cell_type": "markdown",
   "metadata": {
    "id": "PyNlZ5UGgsCN"
   },
   "source": [
    "# Ejercicio 2\n",
    "\n",
    "Diseñar un algoritmo para resolver una ecuación de segundo grado `ax^2+bx+c`. Dicho algoritmo debe considerar los tres posibles:\n",
    "\n",
    "1. El polinomio no tiene raíces reales, es decir, que el polinomio tenga raíces complejas\n",
    "2. El polinomio tiene dos raíces iguales\n",
    "3. El polinomio tiene dos raíces reales diferentes"
   ]
  },
  {
   "cell_type": "code",
   "execution_count": null,
   "metadata": {
    "id": "qY70F0c8hKR2"
   },
   "outputs": [],
   "source": [
    "# escribir codigo"
   ]
  }
 ],
 "metadata": {
  "colab": {
   "authorship_tag": "ABX9TyP9WIP4kJmqf5tL5wHBjS2V",
   "provenance": []
  },
  "kernelspec": {
   "display_name": "base",
   "language": "python",
   "name": "python3"
  },
  "language_info": {
   "codemirror_mode": {
    "name": "ipython",
    "version": 3
   },
   "file_extension": ".py",
   "mimetype": "text/x-python",
   "name": "python",
   "nbconvert_exporter": "python",
   "pygments_lexer": "ipython3",
   "version": "3.12.7"
  }
 },
 "nbformat": 4,
 "nbformat_minor": 0
}
