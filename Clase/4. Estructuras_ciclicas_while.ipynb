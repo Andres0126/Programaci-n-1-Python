{
 "cells": [
  {
   "cell_type": "markdown",
   "metadata": {
    "id": "q73uwbBTSuzQ"
   },
   "source": [
    "# WHILE\n",
    "\n",
    "Un ciclo while ejecuta las instrucciones dentro de su cuerpor tantas veces como la condicion permenezca como True. Por tanto, cuando la condicion sea False saldra del ciclo. Vemos que el ciclo while utiliza un condicional para evaluar la condicion.\n",
    "\n",
    "De antemano **NO** sabemos cuantas vecez se va a repetir el ciclo\n",
    "\n",
    "Por ejemplo, en un juego de adivinanzas no sabemoS cauntas veces el usuario adivinarai, pero el juego continua mientras (while) este adivinando.\n",
    "\n",
    "```\n",
    "while condicion:\n",
    "  #cuerpo del ciclo\n",
    "```"
   ]
  },
  {
   "cell_type": "markdown",
   "metadata": {
    "id": "Qz0vUVZTXmPY"
   },
   "source": [
    "Realice un algoritmo que imprima los primeros ```n``` naturales."
   ]
  },
  {
   "cell_type": "code",
   "execution_count": 1,
   "metadata": {
    "colab": {
     "base_uri": "https://localhost:8080/"
    },
    "executionInfo": {
     "elapsed": 2378,
     "status": "ok",
     "timestamp": 1715359343682,
     "user": {
      "displayName": "Richard Rios Patino",
      "userId": "15410436124749114871"
     },
     "user_tz": 300
    },
    "id": "wpV8VnfSXl6X",
    "outputId": "9e55734d-c97d-44bc-86ad-0d4c4be20ae9"
   },
   "outputs": [
    {
     "ename": "ValueError",
     "evalue": "invalid literal for int() with base 10: ''",
     "output_type": "error",
     "traceback": [
      "\u001b[31m---------------------------------------------------------------------------\u001b[39m",
      "\u001b[31mValueError\u001b[39m                                Traceback (most recent call last)",
      "\u001b[36mCell\u001b[39m\u001b[36m \u001b[39m\u001b[32mIn[1]\u001b[39m\u001b[32m, line 1\u001b[39m\n\u001b[32m----> \u001b[39m\u001b[32m1\u001b[39m n = \u001b[38;5;28;43mint\u001b[39;49m\u001b[43m(\u001b[49m\u001b[38;5;28;43minput\u001b[39;49m\u001b[43m(\u001b[49m\u001b[33;43m\"\u001b[39;49m\u001b[33;43mIngrese el entero: \u001b[39;49m\u001b[33;43m\"\u001b[39;49m\u001b[43m)\u001b[49m\u001b[43m)\u001b[49m\n\u001b[32m      2\u001b[39m i = \u001b[32m1\u001b[39m\n\u001b[32m      4\u001b[39m \u001b[38;5;28;01mwhile\u001b[39;00m (i<=n):\n",
      "\u001b[31mValueError\u001b[39m: invalid literal for int() with base 10: ''"
     ]
    }
   ],
   "source": [
    "n = int(input(\"Ingrese el entero: \"))\n",
    "i = 1\n",
    "\n",
    "while (i<=n):\n",
    "  print(i,\"\\t\")\n",
    "  i +=1"
   ]
  },
  {
   "cell_type": "markdown",
   "metadata": {
    "id": "B4ERupL1Yvbf"
   },
   "source": [
    "Realice un algoritmo que calcule ```n``` factorial."
   ]
  },
  {
   "cell_type": "code",
   "execution_count": null,
   "metadata": {
    "id": "9JHdO8cMY6vU"
   },
   "outputs": [],
   "source": [
    "# respuesta"
   ]
  },
  {
   "cell_type": "markdown",
   "metadata": {
    "id": "Uawgp9CdY9Ge"
   },
   "source": [
    "#WHILE INFINITOS\n",
    "\n",
    "**Ejercicios:** Cual de los siguientes codigos resultará en un loop infinito?\n",
    "\n",
    "1.   ```\n",
    "      while True:\n",
    "        print(\"Go Yellow Jackets!\")\n",
    "     ```\n",
    "2.    ```\n",
    "      x = 0\n",
    "      while x < 5:\n",
    "        x += 1\n",
    "      ```\n",
    "3.    ```\n",
    "      x = 0\n",
    "      while x < 5:\n",
    "         x -= 1\n",
    "      ```\n",
    "4.    ```\n",
    "      for i in range(0, Infinity):\n",
    "        print(i)\n",
    "      ```"
   ]
  },
  {
   "cell_type": "code",
   "execution_count": null,
   "metadata": {
    "colab": {
     "base_uri": "https://localhost:8080/"
    },
    "executionInfo": {
     "elapsed": 363,
     "status": "ok",
     "timestamp": 1725120782514,
     "user": {
      "displayName": "Richard Rios Patino",
      "userId": "15410436124749114871"
     },
     "user_tz": 300
    },
    "id": "TOgvBTH0NDfh",
    "outputId": "e3aaccba-2cf6-40fe-b86d-b5f0c4e9c6f4"
   },
   "outputs": [
    {
     "name": "stdout",
     "output_type": "stream",
     "text": [
      "0\n",
      "1\n",
      "2\n",
      "3\n",
      "4\n",
      "5\n",
      "6\n",
      "7\n",
      "8\n",
      "9\n"
     ]
    }
   ],
   "source": [
    "for i in range(0, 10):\n",
    "  print(i)\n"
   ]
  },
  {
   "cell_type": "markdown",
   "metadata": {
    "id": "KEjJBb2AZOFu"
   },
   "source": [
    "Para evitar tener ciclo infinitos, debemos poner mucha atencion en la condicion del ciclo para que termine en algún punto."
   ]
  },
  {
   "cell_type": "markdown",
   "metadata": {
    "id": "_KT-76POZSI-"
   },
   "source": [
    "#WHILE CON LISTAS"
   ]
  },
  {
   "cell_type": "code",
   "execution_count": null,
   "metadata": {
    "colab": {
     "base_uri": "https://localhost:8080/"
    },
    "executionInfo": {
     "elapsed": 6,
     "status": "ok",
     "timestamp": 1741205370748,
     "user": {
      "displayName": "Richard Rios Patino",
      "userId": "15410436124749114871"
     },
     "user_tz": 300
    },
    "id": "F7S61yWwwdjP",
    "outputId": "f1ce581b-478d-4734-9a4b-393d9332150b"
   },
   "outputs": [
    {
     "name": "stdout",
     "output_type": "stream",
     "text": [
      "POP:    4\n",
      "lista:  [1, 2, 3]\n",
      "POP:    3\n",
      "lista:  [1, 2]\n",
      "POP:    2\n",
      "lista:  [1]\n",
      "POP:    1\n",
      "lista:  []\n",
      "Asi quedo la lista: []\n"
     ]
    }
   ],
   "source": [
    "lista = [1, 2, 3, 4]\n",
    "\n",
    "while lista:                # Se ejecutara hasta que haya un elemento en la lista\n",
    "  print(\"POP:   \",lista.pop())\n",
    "  print(\"lista: \",lista)\n",
    "\n",
    "print(\"Asi quedo la lista:\",lista)"
   ]
  },
  {
   "cell_type": "code",
   "execution_count": null,
   "metadata": {
    "colab": {
     "base_uri": "https://localhost:8080/"
    },
    "executionInfo": {
     "elapsed": 6116,
     "status": "ok",
     "timestamp": 1725121072329,
     "user": {
      "displayName": "Richard Rios Patino",
      "userId": "15410436124749114871"
     },
     "user_tz": 300
    },
    "id": "kdlM0x_zwzpw",
    "outputId": "b3956c95-6f71-4f92-c649-f82083fa1da3"
   },
   "outputs": [
    {
     "name": "stdout",
     "output_type": "stream",
     "text": [
      "Ingrese la lista: abcd\n",
      "d\n",
      "c\n",
      "b\n",
      "a\n"
     ]
    }
   ],
   "source": [
    "lista =  list(input(\"Ingrese la lista: \")) #ingrese: abcd\n",
    "#lista =  ['a', 'b', 'c', 'd']\n",
    "while lista:\n",
    "  print(lista.pop())\n"
   ]
  },
  {
   "cell_type": "markdown",
   "metadata": {
    "id": "o_wAdXnow4S3"
   },
   "source": [
    "# WHILE en una linea"
   ]
  },
  {
   "cell_type": "code",
   "execution_count": null,
   "metadata": {
    "colab": {
     "base_uri": "https://localhost:8080/"
    },
    "executionInfo": {
     "elapsed": 232,
     "status": "ok",
     "timestamp": 1715365750752,
     "user": {
      "displayName": "Richard Rios Patino",
      "userId": "15410436124749114871"
     },
     "user_tz": 300
    },
    "id": "v_22urF1xBzZ",
    "outputId": "656c98d2-718c-4333-d788-17e9faef8277"
   },
   "outputs": [
    {
     "name": "stdout",
     "output_type": "stream",
     "text": [
      "1\n",
      "2\n",
      "3\n",
      "4\n",
      "5\n",
      "6\n"
     ]
    }
   ],
   "source": [
    "i = 0\n",
    "while (i<=5): i+=1; print(i)"
   ]
  },
  {
   "cell_type": "code",
   "execution_count": null,
   "metadata": {
    "colab": {
     "base_uri": "https://localhost:8080/"
    },
    "executionInfo": {
     "elapsed": 558,
     "status": "ok",
     "timestamp": 1725124715494,
     "user": {
      "displayName": "Richard Rios Patino",
      "userId": "15410436124749114871"
     },
     "user_tz": 300
    },
    "id": "uS6_8In2cXl-",
    "outputId": "eae76d0f-ea6d-4f8a-98c3-973386a2578f"
   },
   "outputs": [
    {
     "name": "stdout",
     "output_type": "stream",
     "text": [
      "[5, 1, 3, 6]\n"
     ]
    }
   ],
   "source": [
    "list = [5,1,3, 2, 6]\n",
    "list.remove(3)\n",
    "print(list)"
   ]
  },
  {
   "cell_type": "markdown",
   "metadata": {
    "id": "4buKgExmR14o"
   },
   "source": [
    "#CONTINUE AND BREAK\n",
    "\n",
    "```continue```  salta y empieza una nueva iteración\n",
    "\n",
    "```break``` termina la ejecución"
   ]
  },
  {
   "cell_type": "code",
   "execution_count": null,
   "metadata": {
    "colab": {
     "base_uri": "https://localhost:8080/"
    },
    "executionInfo": {
     "elapsed": 350,
     "status": "ok",
     "timestamp": 1725121362101,
     "user": {
      "displayName": "Richard Rios Patino",
      "userId": "15410436124749114871"
     },
     "user_tz": 300
    },
    "id": "07y6raFER1CI",
    "outputId": "c5fe2d70-0318-4cf3-f4fb-ead4dc7ee6b9"
   },
   "outputs": [
    {
     "name": "stdout",
     "output_type": "stream",
     "text": [
      "U\n",
      "n\n",
      "v\n",
      "e\n",
      "r\n",
      "d\n",
      "a\n",
      "d\n",
      "Nos salimos del bucle\n"
     ]
    }
   ],
   "source": [
    "cadena = \"Universidad\"\n",
    "i=0\n",
    "\n",
    "while i<len(cadena):\n",
    "  if cadena[i]=='i' or cadena[i]=='s':\n",
    "    i+=1\n",
    "    continue\n",
    "  print(cadena[i])\n",
    "  i+=1\n",
    "\n",
    "print(\"Nos salimos del bucle\")"
   ]
  },
  {
   "cell_type": "code",
   "execution_count": null,
   "metadata": {
    "colab": {
     "base_uri": "https://localhost:8080/"
    },
    "executionInfo": {
     "elapsed": 359,
     "status": "ok",
     "timestamp": 1725121394397,
     "user": {
      "displayName": "Richard Rios Patino",
      "userId": "15410436124749114871"
     },
     "user_tz": 300
    },
    "id": "roLr1oMlSGyh",
    "outputId": "293f7250-a063-47c4-8fee-35537a3ab70d"
   },
   "outputs": [
    {
     "name": "stdout",
     "output_type": "stream",
     "text": [
      "U\n",
      "n\n",
      "Nos salimos del bucle\n"
     ]
    }
   ],
   "source": [
    "cadena = \"Universidad\"\n",
    "i=0\n",
    "\n",
    "while i<len(cadena):\n",
    "  if cadena[i]=='i':\n",
    "    break\n",
    "  print(cadena[i])\n",
    "  i+=1\n",
    "\n",
    "print(\"Nos salimos del bucle\")"
   ]
  }
 ],
 "metadata": {
  "colab": {
   "authorship_tag": "ABX9TyNmz9RZYRlHElyxB3po8BUy",
   "provenance": []
  },
  "kernelspec": {
   "display_name": "Python 3",
   "name": "python3"
  },
  "language_info": {
   "codemirror_mode": {
    "name": "ipython",
    "version": 3
   },
   "file_extension": ".py",
   "mimetype": "text/x-python",
   "name": "python",
   "nbconvert_exporter": "python",
   "pygments_lexer": "ipython3",
   "version": "3.13.3"
  }
 },
 "nbformat": 4,
 "nbformat_minor": 0
}
