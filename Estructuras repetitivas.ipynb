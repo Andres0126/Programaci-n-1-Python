{
 "cells": [
  {
   "cell_type": "code",
   "execution_count": null,
   "id": "968c11e6",
   "metadata": {},
   "outputs": [
    {
     "name": "stdout",
     "output_type": "stream",
     "text": [
      "10\n"
     ]
    }
   ],
   "source": [
    "#While\n",
    "# Hasta que se cumpla una condición, se repite un bloque de código.\n",
    "# Estructura de un WWhile:\n",
    "\n",
    "numero = 10\n",
    "while numero <= 10: #Si esta condición se cumple, se ejecuta el bloque de código.\n",
    "    print(numero)\n",
    "    numero += 1\n",
    "# En este caso, el bloque de código se ejecuta mientras la variable numero sea menor que 10. "
   ]
  },
  {
   "cell_type": "code",
   "execution_count": null,
   "id": "0c24d122",
   "metadata": {},
   "outputs": [
    {
     "ename": "ValueError",
     "evalue": "invalid literal for int() with base 10: ''",
     "output_type": "error",
     "traceback": [
      "\u001b[31m---------------------------------------------------------------------------\u001b[39m",
      "\u001b[31mValueError\u001b[39m                                Traceback (most recent call last)",
      "\u001b[36mCell\u001b[39m\u001b[36m \u001b[39m\u001b[32mIn[4]\u001b[39m\u001b[32m, line 3\u001b[39m\n\u001b[32m      1\u001b[39m \u001b[38;5;66;03m# Ejemplo 1: pasar entero a binario\u001b[39;00m\n\u001b[32m----> \u001b[39m\u001b[32m3\u001b[39m d=\u001b[38;5;28;43mint\u001b[39;49m\u001b[43m(\u001b[49m\u001b[38;5;28;43minput\u001b[39;49m\u001b[43m(\u001b[49m\u001b[33;43m\"\u001b[39;49m\u001b[33;43mIngrese un número entero: \u001b[39;49m\u001b[33;43m\"\u001b[39;49m\u001b[43m)\u001b[49m\u001b[43m)\u001b[49m\n\u001b[32m      4\u001b[39m c = \u001b[32m1\u001b[39m\n\u001b[32m      5\u001b[39m \u001b[38;5;28;01mif\u001b[39;00m (c != \u001b[32m0\u001b[39m):\n",
      "\u001b[31mValueError\u001b[39m: invalid literal for int() with base 10: ''"
     ]
    }
   ],
   "source": [
    "# Ejemplo 1: pasar entero a binario\n",
    "d=int(input(\"Ingrese un número entero: \"))\n",
    "c = 1\n",
    "if (c != 0):\n",
    "    while d > 0:\n",
    "        c = d // 2\n",
    "        r = d % 2\n",
    "        d = c\n",
    "        print(\"Bit:\",r)"
   ]
  },
  {
   "cell_type": "code",
   "execution_count": null,
   "id": "90c87ddd",
   "metadata": {},
   "outputs": [],
   "source": [
    "#Realizar un programa para calcula las suma de los primers n terminos. El usuario ingresa el valor de n. usar el while\n",
    "n = int(input(\"Ingrese el valor de n: \"))\n",
    "suma = 0\n",
    "i = 1\n",
    "while i <= n:\n",
    "    suma += i\n",
    "    i += 1\n"
   ]
  }
 ],
 "metadata": {
  "kernelspec": {
   "display_name": "Python 3",
   "language": "python",
   "name": "python3"
  },
  "language_info": {
   "codemirror_mode": {
    "name": "ipython",
    "version": 3
   },
   "file_extension": ".py",
   "mimetype": "text/x-python",
   "name": "python",
   "nbconvert_exporter": "python",
   "pygments_lexer": "ipython3",
   "version": "3.13.3"
  }
 },
 "nbformat": 4,
 "nbformat_minor": 5
}
